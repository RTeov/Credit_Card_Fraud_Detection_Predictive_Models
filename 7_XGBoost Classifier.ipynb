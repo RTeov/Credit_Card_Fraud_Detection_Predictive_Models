{
 "cells": [
  {
   "cell_type": "code",
   "execution_count": null,
   "id": "3e1a29bc",
   "metadata": {},
   "outputs": [],
   "source": [
    "import os\n",
    "import pandas as pd\n",
    "import seaborn as sns\n",
    "import xgboost as xgb\n",
    "import matplotlib.pyplot as plt\n",
    "from sklearn.model_selection import train_test_split\n",
    "from sklearn.metrics import roc_auc_score\n",
    "from sklearn.metrics import confusion_matrix"
   ]
  },
  {
   "cell_type": "markdown",
   "id": "281a6094",
   "metadata": {},
   "source": [
    "# Read the Data"
   ]
  },
  {
   "cell_type": "code",
   "execution_count": null,
   "id": "df9e39f5",
   "metadata": {},
   "outputs": [],
   "source": [
    "working_directory = os.getcwd()\n",
    "print(working_directory)\n",
    "data = pd.read_csv(f\"{working_directory}/Input_Data/creditcard_post_correlation.csv\") #Change the path to your dataset, if needed"
   ]
  },
  {
   "cell_type": "markdown",
   "id": "4438a62f",
   "metadata": {},
   "source": [
    "## Define Predictors and Target Variables\n",
    "##### We will specify the predictor features and the target variable. Additionally, categorical features can be identified if present. In this case, there are no categorical features.\n",
    "\n"
   ]
  },
  {
   "cell_type": "code",
   "execution_count": null,
   "id": "68b45ddc",
   "metadata": {},
   "outputs": [],
   "source": [
    "# Define the target variable\n",
    "target = 'Fraud_Flag'\n",
    "\n",
    "# Define the features to be used in the model\n",
    "predictors = [\n",
    "    'Transaction_Time', 'V1', 'V2', 'V3', 'V4', 'V5', 'V6', 'V7', 'V8', 'V9', 'V10',\n",
    "    'V11', 'V12', 'V13', 'V14', 'V15', 'V16', 'V17', 'V18', 'V19',\n",
    "    'V20', 'V21', 'V22', 'V23', 'V24', 'V25', 'V26', 'V27', 'V28',\n",
    "    'Transaction_Amount'\n",
    "]"
   ]
  },
  {
   "cell_type": "markdown",
   "id": "3009ba76",
   "metadata": {},
   "source": [
    "## Define the TRAIN/VALIDATION/TEST SPLIT"
   ]
  },
  {
   "cell_type": "code",
   "execution_count": null,
   "id": "84c20dbe",
   "metadata": {},
   "outputs": [],
   "source": [
    "#TRAIN/VALIDATION/TEST SPLIT\n",
    "#VALIDATION\n",
    "VALID_SIZE = 0.20 # simple validation using train_test_split\n",
    "TEST_SIZE = 0.20 # test size using_train_test_split\n",
    "\n",
    "#CROSS-VALIDATION\n",
    "NUMBER_KFOLDS = 5 #number of KFolds for cross-validation\n",
    "\n",
    "RANDOM_STATE = 2018\n",
    "\n",
    "MAX_ROUNDS = 1000 #lgb iterations\n",
    "EARLY_STOP = 50 #lgb early stop \n",
    "OPT_ROUNDS = 1000  #To be adjusted based on best validation rounds\n",
    "VERBOSE_EVAL = 50 #Print out metric result\n",
    "\n",
    "# Set the path to the input data\n",
    "IS_LOCAL = True  # Set to True since you we running locally\n",
    "\n",
    "if IS_LOCAL:\n",
    "    PATH = \"C:/Users/teovr/Desktop/Credit_Card_Fraud_Detection_Predictive_Model/Input_Data/\"\n",
    "else:\n",
    "    PATH = \"../input\"\n",
    "\n",
    "print(os.listdir(PATH))  # List the files in the specified directory"
   ]
  },
  {
   "cell_type": "markdown",
   "id": "9e13e840",
   "metadata": {},
   "source": [
    "## Split data in train, test and validation set"
   ]
  },
  {
   "cell_type": "code",
   "execution_count": null,
   "id": "8643b7ae",
   "metadata": {},
   "outputs": [],
   "source": [
    "# Split the data into training and testing sets\n",
    "train_df, test_df = train_test_split(\n",
    "    data, \n",
    "    test_size=TEST_SIZE, \n",
    "    random_state=RANDOM_STATE, \n",
    "    shuffle=True\n",
    ")\n",
    "\n",
    "# Further split the training set into training and validation sets\n",
    "train_df, valid_df = train_test_split(\n",
    "    train_df, \n",
    "    test_size=VALID_SIZE, \n",
    "    random_state=RANDOM_STATE, \n",
    "    shuffle=True\n",
    ")"
   ]
  },
  {
   "cell_type": "markdown",
   "id": "287c4bb7",
   "metadata": {},
   "source": [
    "## XGBoost"
   ]
  },
  {
   "cell_type": "markdown",
   "id": "b73bf19c",
   "metadata": {},
   "source": [
    "#### XGBoost is a gradient boosting algorithm"
   ]
  },
  {
   "cell_type": "markdown",
   "id": "0f81fbe7",
   "metadata": {},
   "source": [
    "### XGBoost Classifier definitions"
   ]
  },
  {
   "cell_type": "code",
   "execution_count": null,
   "id": "1e12b4db",
   "metadata": {},
   "outputs": [],
   "source": [
    "RFC_METRIC = 'gini'  #metric used for RandomForrestClassifier\n",
    "NUM_ESTIMATORS = 100 #number of estimators used for RandomForrestClassifier\n",
    "NUMBER_OF_JOBS = 4 #number of parallel jobs used for RandomForrestClassifier"
   ]
  },
  {
   "cell_type": "markdown",
   "id": "c6419aab",
   "metadata": {},
   "source": [
    "### Prepare the model\n",
    "##### initialize the DMatrix objects for training and validation, starting from the datasets  and set some of the parameters used for the model tuning."
   ]
  },
  {
   "cell_type": "code",
   "execution_count": null,
   "id": "6c7a708a",
   "metadata": {},
   "outputs": [],
   "source": [
    "# Prepare the train and valid datasets\n",
    "dtrain = xgb.DMatrix(train_df[predictors], train_df[target].values)\n",
    "dvalid = xgb.DMatrix(valid_df[predictors], valid_df[target].values)\n",
    "dtest = xgb.DMatrix(test_df[predictors], test_df[target].values)\n",
    "\n",
    "#What to monitor (in this case, **train** and **valid**)\n",
    "watchlist = [(dtrain, 'train'), (dvalid, 'valid')]\n",
    "\n",
    "# Set xgboost parameters\n",
    "xgb_params = {}\n",
    "xgb_params['objective'] = 'binary:logistic'\n",
    "xgb_params['eta'] = 0.039\n",
    "xgb_params['silent'] = True\n",
    "xgb_params['max_depth'] = 2\n",
    "xgb_params['subsample'] = 0.8\n",
    "xgb_params['colsample_bytree'] = 0.9\n",
    "xgb_params['eval_metric'] = 'auc'\n",
    "xgb_params['random_state'] = RANDOM_STATE"
   ]
  },
  {
   "cell_type": "markdown",
   "id": "c2caeab1",
   "metadata": {},
   "source": [
    "### Train the model"
   ]
  },
  {
   "cell_type": "code",
   "execution_count": null,
   "id": "86c3a5ab",
   "metadata": {},
   "outputs": [],
   "source": [
    "model = xgb.train(xgb_params, \n",
    "                dtrain, \n",
    "                MAX_ROUNDS, \n",
    "                watchlist, \n",
    "                early_stopping_rounds=EARLY_STOP, \n",
    "                maximize=True, \n",
    "                verbose_eval=VERBOSE_EVAL)"
   ]
  },
  {
   "cell_type": "markdown",
   "id": "14ccb0fb",
   "metadata": {},
   "source": [
    "##### The best validation score (ROC-AUC) was 0.98039, for round 100."
   ]
  },
  {
   "cell_type": "markdown",
   "id": "21b4629e",
   "metadata": {},
   "source": [
    "### Features importance"
   ]
  },
  {
   "cell_type": "code",
   "execution_count": null,
   "id": "203b10ce",
   "metadata": {},
   "outputs": [],
   "source": [
    "# Make predictions\n",
    "fig, ax = plt.subplots(figsize=(10, 6))\n",
    "xgb.plot_importance(\n",
    "    model,\n",
    "    ax=ax,\n",
    "    height=0.8,\n",
    "    title=\"Feature Importance (XGBoost)\",\n",
    "    color=\"forestgreen\",\n",
    "    importance_type='gain',  \n",
    "    show_values=False,       \n",
    ")\n",
    "\n",
    "# Add value labels to bars \n",
    "ax.set_title(\"XGBoost Feature Importance\", fontsize=18, fontweight='bold', pad=15)\n",
    "ax.set_xlabel(\"Importance Score\", fontsize=14)\n",
    "ax.set_ylabel(\"Features\", fontsize=14)\n",
    "\n",
    "# Plot the feature importance\n",
    "plt.xticks(fontsize=12)\n",
    "plt.yticks(fontsize=12)\n",
    "plt.tight_layout()\n",
    "plt.show()\n"
   ]
  },
  {
   "cell_type": "markdown",
   "id": "efe8598f",
   "metadata": {},
   "source": [
    "### Predict test set"
   ]
  },
  {
   "cell_type": "code",
   "execution_count": null,
   "id": "b74fd03a",
   "metadata": {},
   "outputs": [],
   "source": [
    "predictions4 = model.predict(dtest)"
   ]
  },
  {
   "cell_type": "markdown",
   "id": "1e943401",
   "metadata": {},
   "source": [
    "### Confusion Matrix"
   ]
  },
  {
   "cell_type": "code",
   "execution_count": null,
   "id": "28ee1bc4",
   "metadata": {},
   "outputs": [],
   "source": [
    "# Convert predicted probabilities to class labels (0 or 1)\n",
    "xgb_pred_labels = (predictions4 >= 0.5).astype(int)\n",
    "\n",
    "# Create the confusion matrix\n",
    "cm_xgb = confusion_matrix(test_df[target].values, xgb_pred_labels)\n",
    "\n",
    "# Plot the confusion matrix\n",
    "plt.figure(figsize=(6, 6))\n",
    "sns.heatmap(\n",
    "    cm_xgb,\n",
    "    annot=True,\n",
    "    fmt='d',\n",
    "    cmap=\"Blues\",\n",
    "    linewidths=1,\n",
    "    linecolor=\"black\",\n",
    "    cbar=False,\n",
    "    xticklabels=['Not Fraud', 'Fraud'],\n",
    "    yticklabels=['Not Fraud', 'Fraud'],\n",
    "    annot_kws={\"size\": 18, \"weight\": \"bold\"}\n",
    ")\n",
    "\n",
    "# Add title and labels\n",
    "plt.title('XGBoost Confusion Matrix', fontsize=18, fontweight='bold', pad=15)\n",
    "plt.xlabel('Predicted', fontsize=14, labelpad=10)\n",
    "plt.ylabel('Actual', fontsize=14, labelpad=10)\n",
    "plt.tight_layout()\n",
    "plt.show()"
   ]
  },
  {
   "cell_type": "markdown",
   "id": "7df058e0",
   "metadata": {},
   "source": [
    "### ROC-AUC score (Area under curve)"
   ]
  },
  {
   "cell_type": "code",
   "execution_count": null,
   "id": "4a0af355",
   "metadata": {},
   "outputs": [],
   "source": [
    "roc_auc_score(test_df[target].values, predictions4)"
   ]
  },
  {
   "cell_type": "markdown",
   "id": "da50ca69",
   "metadata": {},
   "source": [
    "##### The AUC score for the prediction of fresh data (test set) is 0.974."
   ]
  }
 ],
 "metadata": {
  "kernelspec": {
   "display_name": "Python 3",
   "language": "python",
   "name": "python3"
  },
  "language_info": {
   "codemirror_mode": {
    "name": "ipython",
    "version": 3
   },
   "file_extension": ".py",
   "mimetype": "text/x-python",
   "name": "python",
   "nbconvert_exporter": "python",
   "pygments_lexer": "ipython3",
   "version": "3.12.5"
  }
 },
 "nbformat": 4,
 "nbformat_minor": 5
}
