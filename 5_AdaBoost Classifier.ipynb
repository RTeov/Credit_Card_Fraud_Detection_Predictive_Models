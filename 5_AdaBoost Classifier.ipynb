{
 "cells": [
  {
   "cell_type": "code",
   "execution_count": null,
   "id": "3e1a29bc",
   "metadata": {},
   "outputs": [],
   "source": [
    "import os\n",
    "import pandas as pd\n",
    "import seaborn as sns\n",
    "import matplotlib.pyplot as plt\n",
    "from sklearn.model_selection import train_test_split\n",
    "from sklearn.metrics import roc_auc_score\n",
    "from sklearn.ensemble import AdaBoostClassifier"
   ]
  },
  {
   "cell_type": "markdown",
   "id": "281a6094",
   "metadata": {},
   "source": [
    "# Read the Data"
   ]
  },
  {
   "cell_type": "code",
   "execution_count": null,
   "id": "df9e39f5",
   "metadata": {},
   "outputs": [],
   "source": [
    "working_directory = os.getcwd()\n",
    "print(working_directory)\n",
    "data = pd.read_csv(f\"{working_directory}/Input_Data/creditcard_post_correlation.csv\") #Change the path to your dataset, if needed"
   ]
  },
  {
   "cell_type": "markdown",
   "id": "4438a62f",
   "metadata": {},
   "source": [
    "## Define Predictors and Target Variables\n",
    "##### We will specify the predictor features and the target variable. Additionally, categorical features can be identified if present. In this case, there are no categorical features.\n",
    "\n"
   ]
  },
  {
   "cell_type": "code",
   "execution_count": null,
   "id": "68b45ddc",
   "metadata": {},
   "outputs": [],
   "source": [
    "# Define the target variable\n",
    "target = 'Fraud_Flag'\n",
    "\n",
    "# Define the features to be used in the model\n",
    "predictors = [\n",
    "    'Transaction_Time', 'V1', 'V2', 'V3', 'V4', 'V5', 'V6', 'V7', 'V8', 'V9', 'V10',\n",
    "    'V11', 'V12', 'V13', 'V14', 'V15', 'V16', 'V17', 'V18', 'V19',\n",
    "    'V20', 'V21', 'V22', 'V23', 'V24', 'V25', 'V26', 'V27', 'V28',\n",
    "    'Transaction_Amount'\n",
    "]"
   ]
  },
  {
   "cell_type": "markdown",
   "id": "3009ba76",
   "metadata": {},
   "source": [
    "## Define the TRAIN/VALIDATION/TEST SPLIT"
   ]
  },
  {
   "cell_type": "code",
   "execution_count": null,
   "id": "84c20dbe",
   "metadata": {},
   "outputs": [],
   "source": [
    "#TRAIN/VALIDATION/TEST SPLIT\n",
    "#VALIDATION\n",
    "VALID_SIZE = 0.20 # simple validation using train_test_split\n",
    "TEST_SIZE = 0.20 # test size using_train_test_split\n",
    "\n",
    "#CROSS-VALIDATION\n",
    "NUMBER_KFOLDS = 5 #number of KFolds for cross-validation\n",
    "\n",
    "RANDOM_STATE = 2018\n",
    "\n",
    "MAX_ROUNDS = 1000 #lgb iterations\n",
    "EARLY_STOP = 50 #lgb early stop \n",
    "OPT_ROUNDS = 1000  #To be adjusted based on best validation rounds\n",
    "VERBOSE_EVAL = 50 #Print out metric result\n",
    "\n",
    "# Set the path to the input data\n",
    "IS_LOCAL = True  # Set to True since we are running locally\n",
    "\n",
    "if IS_LOCAL:\n",
    "    PATH = \"C:/Users/teovr/Desktop/Credit_Card_Fraud_Detection_Predictive_Model/Input_Data/\"\n",
    "else:\n",
    "    PATH = \"../input\"\n",
    "\n",
    "print(os.listdir(PATH))  # List the files in the specified directory"
   ]
  },
  {
   "cell_type": "markdown",
   "id": "9e13e840",
   "metadata": {},
   "source": [
    "## Split data in train, test and validation set"
   ]
  },
  {
   "cell_type": "code",
   "execution_count": null,
   "id": "8643b7ae",
   "metadata": {},
   "outputs": [],
   "source": [
    "# Split the data into training and testing sets\n",
    "train_df, test_df = train_test_split(\n",
    "    data, \n",
    "    test_size=TEST_SIZE, \n",
    "    random_state=RANDOM_STATE, \n",
    "    shuffle=True\n",
    ")\n",
    "\n",
    "# Further split the training set into training and validation sets\n",
    "train_df, valid_df = train_test_split(\n",
    "    train_df, \n",
    "    test_size=VALID_SIZE, \n",
    "    random_state=RANDOM_STATE, \n",
    "    shuffle=True\n",
    ")"
   ]
  },
  {
   "cell_type": "markdown",
   "id": "287c4bb7",
   "metadata": {},
   "source": [
    "## AdaBoost Classifier (Adaptive Boosting Classifier)"
   ]
  },
  {
   "cell_type": "markdown",
   "id": "0f81fbe7",
   "metadata": {},
   "source": [
    "### AdaBoost Classifier definitions"
   ]
  },
  {
   "cell_type": "code",
   "execution_count": null,
   "id": "1e12b4db",
   "metadata": {},
   "outputs": [],
   "source": [
    "RFC_METRIC = 'gini'  #metric used for RandomForrestClassifier\n",
    "NUM_ESTIMATORS = 100 #number of estimators used for RandomForrestClassifier\n",
    "NUMBER_OF_JOBS = 4 #number of parallel jobs used for RandomForrestClassifier"
   ]
  },
  {
   "cell_type": "markdown",
   "id": "debd1031",
   "metadata": {},
   "source": [
    "### Create the model"
   ]
  },
  {
   "cell_type": "markdown",
   "id": "96f55246",
   "metadata": {},
   "source": [
    "##### Set the parameters for the model and initialize the it."
   ]
  },
  {
   "cell_type": "code",
   "execution_count": null,
   "id": "d18f983c",
   "metadata": {},
   "outputs": [],
   "source": [
    "clf2 = AdaBoostClassifier(random_state=RANDOM_STATE,\n",
    "                         algorithm='SAMME',\n",
    "                         learning_rate=0.8,\n",
    "                             n_estimators=NUM_ESTIMATORS)"
   ]
  },
  {
   "cell_type": "markdown",
   "id": "762916b8",
   "metadata": {},
   "source": [
    "### Fitting the model"
   ]
  },
  {
   "cell_type": "code",
   "execution_count": null,
   "id": "594fb1f0",
   "metadata": {},
   "outputs": [],
   "source": [
    "clf2.fit(train_df[predictors], train_df[target].values)"
   ]
  },
  {
   "cell_type": "markdown",
   "id": "5c43b1ed",
   "metadata": {},
   "source": [
    "### Predict the target values"
   ]
  },
  {
   "cell_type": "code",
   "execution_count": null,
   "id": "d443d015",
   "metadata": {},
   "outputs": [],
   "source": [
    "predictions2 = clf2.predict(valid_df[predictors])"
   ]
  },
  {
   "cell_type": "markdown",
   "id": "a57aafcd",
   "metadata": {},
   "source": [
    "### Features importance"
   ]
  },
  {
   "cell_type": "code",
   "execution_count": null,
   "id": "14550f1f",
   "metadata": {},
   "outputs": [],
   "source": [
    "# Create a DataFrame to store feature importance\n",
    "feature_importance_df2 = pd.DataFrame({'Feature': predictors, 'Feature importance': clf2.feature_importances_})\n",
    "feature_importance_df2 = feature_importance_df2.sort_values(by='Feature importance', ascending=True)  # Ascending for horizontal barh\n",
    "\n",
    "# Plot the feature importance\n",
    "plt.figure(figsize=(10, 8))\n",
    "plt.title('Feature Importance (AdaBoost)', fontsize=18, fontweight='bold', pad=15)\n",
    "s = sns.barplot(\n",
    "    x='Feature importance',\n",
    "    y='Feature',\n",
    "    data=feature_importance_df2,\n",
    "    hue='Feature',           \n",
    "    palette='crest',\n",
    "    legend=False             \n",
    ")\n",
    "\n",
    "# Add value labels to bars\n",
    "for i, v in enumerate(feature_importance_df2['Feature importance']):\n",
    "    s.text(v + 0.001, i, f\"{v:.3f}\", color='black', va='center', fontsize=10)\n",
    "\n",
    "# Set legend\n",
    "plt.xlabel('Importance', fontsize=14, labelpad=10)\n",
    "plt.ylabel('Features', fontsize=14, labelpad=10)\n",
    "plt.xticks(fontsize=12)\n",
    "plt.yticks(fontsize=12)\n",
    "plt.tight_layout()\n",
    "plt.show()"
   ]
  },
  {
   "cell_type": "markdown",
   "id": "2f2d520a",
   "metadata": {},
   "source": [
    "### Confusion Matrix"
   ]
  },
  {
   "cell_type": "code",
   "execution_count": null,
   "id": "d1ea5338",
   "metadata": {},
   "outputs": [],
   "source": [
    "# Create a DataFrame to store feature importance\n",
    "cm2 = pd.crosstab(valid_df[target].values, predictions2, rownames=['Actual'], colnames=['Predicted'])\n",
    "\n",
    "# Create the plot\n",
    "plt.figure(figsize=(6, 6))\n",
    "ax = sns.heatmap(\n",
    "    cm2,\n",
    "    annot=True,\n",
    "    fmt='d',\n",
    "    cmap=\"Blues\",\n",
    "    linewidths=1,\n",
    "    linecolor=\"black\",\n",
    "    cbar=False,\n",
    "    xticklabels=['Not Fraud', 'Fraud'],\n",
    "    yticklabels=['Not Fraud', 'Fraud'],\n",
    "    annot_kws={\"size\": 18, \"weight\": \"bold\"}\n",
    ")\n",
    "\n",
    "# Add title and labels\n",
    "ax.set_xlabel('Predicted', fontsize=16, labelpad=15)\n",
    "ax.set_ylabel('Actual', fontsize=16, labelpad=15)\n",
    "ax.set_title('Confusion Matrix', fontsize=18, fontweight='bold', pad=20)\n",
    "plt.xticks(fontsize=14)\n",
    "plt.yticks(fontsize=14, rotation=0)\n",
    "plt.tight_layout()\n",
    "plt.show()"
   ]
  },
  {
   "cell_type": "markdown",
   "id": "7f890ce7",
   "metadata": {},
   "source": [
    "### ROC-AUC score (Area under curve)"
   ]
  },
  {
   "cell_type": "code",
   "execution_count": null,
   "id": "9f7613a1",
   "metadata": {},
   "outputs": [],
   "source": [
    "roc_auc_score(valid_df[target].values, predictions2)"
   ]
  },
  {
   "cell_type": "markdown",
   "id": "a91e4132",
   "metadata": {},
   "source": [
    "##### The ROC-AUC score obtained with RandomForrestClassifier is 0.81."
   ]
  }
 ],
 "metadata": {
  "kernelspec": {
   "display_name": "Python 3",
   "language": "python",
   "name": "python3"
  },
  "language_info": {
   "codemirror_mode": {
    "name": "ipython",
    "version": 3
   },
   "file_extension": ".py",
   "mimetype": "text/x-python",
   "name": "python",
   "nbconvert_exporter": "python",
   "pygments_lexer": "ipython3",
   "version": "3.12.5"
  }
 },
 "nbformat": 4,
 "nbformat_minor": 5
}
