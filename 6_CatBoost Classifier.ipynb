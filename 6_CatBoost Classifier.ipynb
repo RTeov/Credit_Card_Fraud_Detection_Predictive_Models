{
 "cells": [
  {
   "cell_type": "code",
   "execution_count": null,
   "id": "3e1a29bc",
   "metadata": {},
   "outputs": [],
   "source": [
    "import os\n",
    "import pandas as pd\n",
    "import seaborn as sns\n",
    "import matplotlib.pyplot as plt\n",
    "from sklearn.model_selection import train_test_split\n",
    "from sklearn.metrics import roc_auc_score\n",
    "from catboost import CatBoostClassifier"
   ]
  },
  {
   "cell_type": "markdown",
   "id": "281a6094",
   "metadata": {},
   "source": [
    "# Read the Data"
   ]
  },
  {
   "cell_type": "code",
   "execution_count": null,
   "id": "df9e39f5",
   "metadata": {},
   "outputs": [],
   "source": [
    "working_directory = os.getcwd()\n",
    "print(working_directory)\n",
    "data = pd.read_csv(f\"{working_directory}/Input_Data/creditcard_post_correlation.csv\") #Change the path to your dataset, if needed"
   ]
  },
  {
   "cell_type": "markdown",
   "id": "4438a62f",
   "metadata": {},
   "source": [
    "## Define Predictors and Target Variables\n",
    "##### We will specify the predictor features and the target variable. Additionally, categorical features can be identified if present. In this case, there are no categorical features.\n",
    "\n"
   ]
  },
  {
   "cell_type": "code",
   "execution_count": null,
   "id": "68b45ddc",
   "metadata": {},
   "outputs": [],
   "source": [
    "# Define the target variable\n",
    "target = 'Fraud_Flag'\n",
    "\n",
    "# Define the features to be used in the model\n",
    "predictors = [\n",
    "    'Transaction_Time', 'V1', 'V2', 'V3', 'V4', 'V5', 'V6', 'V7', 'V8', 'V9', 'V10',\n",
    "    'V11', 'V12', 'V13', 'V14', 'V15', 'V16', 'V17', 'V18', 'V19',\n",
    "    'V20', 'V21', 'V22', 'V23', 'V24', 'V25', 'V26', 'V27', 'V28',\n",
    "    'Transaction_Amount'\n",
    "]"
   ]
  },
  {
   "cell_type": "markdown",
   "id": "3009ba76",
   "metadata": {},
   "source": [
    "## Define the TRAIN/VALIDATION/TEST SPLIT"
   ]
  },
  {
   "cell_type": "code",
   "execution_count": null,
   "id": "84c20dbe",
   "metadata": {},
   "outputs": [],
   "source": [
    "#TRAIN/VALIDATION/TEST SPLIT\n",
    "#VALIDATION\n",
    "VALID_SIZE = 0.20 # simple validation using train_test_split\n",
    "TEST_SIZE = 0.20 # test size using_train_test_split\n",
    "\n",
    "#CROSS-VALIDATION\n",
    "NUMBER_KFOLDS = 5 #number of KFolds for cross-validation\n",
    "\n",
    "RANDOM_STATE = 2018\n",
    "\n",
    "MAX_ROUNDS = 1000 #lgb iterations\n",
    "EARLY_STOP = 50 #lgb early stop \n",
    "OPT_ROUNDS = 1000  #To be adjusted based on best validation rounds\n",
    "VERBOSE_EVAL = 50 #Print out metric result\n",
    "\n",
    "# Set the path to the input data\n",
    "IS_LOCAL = True  # Set to True since you we running locally\n",
    "\n",
    "if IS_LOCAL:\n",
    "    PATH = \"C:/Users/teovr/Desktop/Credit_Card_Fraud_Detection_Predictive_Model/Input_Data/\"\n",
    "else:\n",
    "    PATH = \"../input\"\n",
    "\n",
    "print(os.listdir(PATH))  # List the files in the specified directory"
   ]
  },
  {
   "cell_type": "markdown",
   "id": "9e13e840",
   "metadata": {},
   "source": [
    "## Split data in train, test and validation set"
   ]
  },
  {
   "cell_type": "code",
   "execution_count": null,
   "id": "8643b7ae",
   "metadata": {},
   "outputs": [],
   "source": [
    "# Split the data into training and testing sets\n",
    "train_df, test_df = train_test_split(\n",
    "    data, \n",
    "    test_size=TEST_SIZE, \n",
    "    random_state=RANDOM_STATE, \n",
    "    shuffle=True\n",
    ")\n",
    "\n",
    "# Further split the training set into training and validation sets\n",
    "train_df, valid_df = train_test_split(\n",
    "    train_df, \n",
    "    test_size=VALID_SIZE, \n",
    "    random_state=RANDOM_STATE, \n",
    "    shuffle=True\n",
    ")"
   ]
  },
  {
   "cell_type": "markdown",
   "id": "287c4bb7",
   "metadata": {},
   "source": [
    "## CatBoost Classifier"
   ]
  },
  {
   "cell_type": "markdown",
   "id": "e3c3f0ec",
   "metadata": {},
   "source": [
    "#### CatBoost Classifier is a gradient boosting for decision trees algorithm with support for handling categorical data."
   ]
  },
  {
   "cell_type": "markdown",
   "id": "0f81fbe7",
   "metadata": {},
   "source": [
    "### CatBoost Classifier definitions"
   ]
  },
  {
   "cell_type": "code",
   "execution_count": null,
   "id": "1e12b4db",
   "metadata": {},
   "outputs": [],
   "source": [
    "RFC_METRIC = 'gini'  #metric used for RandomForrestClassifier\n",
    "NUM_ESTIMATORS = 100 #number of estimators used for RandomForrestClassifier\n",
    "NUMBER_OF_JOBS = 4 #number of parallel jobs used for RandomForrestClassifier"
   ]
  },
  {
   "cell_type": "markdown",
   "id": "a3317582",
   "metadata": {},
   "source": [
    "### Prepare the model"
   ]
  },
  {
   "cell_type": "code",
   "execution_count": null,
   "id": "49a4ab0b",
   "metadata": {},
   "outputs": [],
   "source": [
    "clf3 = CatBoostClassifier(iterations=500,\n",
    "                             learning_rate=0.02,\n",
    "                             depth=12,\n",
    "                             eval_metric='AUC',\n",
    "                             random_seed = RANDOM_STATE,\n",
    "                             bagging_temperature = 0.2,\n",
    "                             od_type='Iter',\n",
    "                             metric_period = VERBOSE_EVAL,\n",
    "                             od_wait=100)"
   ]
  },
  {
   "cell_type": "code",
   "execution_count": null,
   "id": "eb7a7202",
   "metadata": {},
   "outputs": [],
   "source": [
    "clf3.fit(train_df[predictors], train_df[target].values,verbose=True)"
   ]
  },
  {
   "cell_type": "markdown",
   "id": "04b399ea",
   "metadata": {},
   "source": [
    "### Predict the target values"
   ]
  },
  {
   "cell_type": "code",
   "execution_count": null,
   "id": "6619b0dd",
   "metadata": {},
   "outputs": [],
   "source": [
    "predictions3 = clf3.predict(valid_df[predictors])"
   ]
  },
  {
   "cell_type": "markdown",
   "id": "08a01a52",
   "metadata": {},
   "source": [
    "### Features importance"
   ]
  },
  {
   "cell_type": "code",
   "execution_count": null,
   "id": "4faaf416",
   "metadata": {},
   "outputs": [],
   "source": [
    "# Create a DataFrame for feature importance and sort it\n",
    "feature_importance_df3 = pd.DataFrame({\n",
    "    'Feature': predictors,\n",
    "    'Importance': clf3.feature_importances_\n",
    "}).sort_values(by='Importance', ascending=False)\n",
    "\n",
    "# Plot feature importance with improved style\n",
    "plt.figure(figsize=(12, 6))\n",
    "plt.title('CatBoost Feature Importance', fontsize=18, fontweight='bold', pad=15)\n",
    "sns.barplot(\n",
    "    x='Importance',\n",
    "    y='Feature',\n",
    "    data=feature_importance_df3,\n",
    "    hue='Feature',          \n",
    "    palette='crest',\n",
    "    legend=False\n",
    ")\n",
    "\n",
    "# Add value labels to bars\n",
    "for i, v in enumerate(feature_importance_df3['Importance']):\n",
    "    plt.text(v + 0.2, i, f\"{v:.2f}\", color='black', va='center', fontsize=10)\n",
    "\n",
    "plt.xlabel('Importance', fontsize=14, labelpad=10)\n",
    "plt.ylabel('Feature', fontsize=14, labelpad=10)\n",
    "plt.xticks(fontsize=12)\n",
    "plt.yticks(fontsize=12)\n",
    "plt.tight_layout()\n",
    "plt.show()"
   ]
  },
  {
   "cell_type": "markdown",
   "id": "aff06914",
   "metadata": {},
   "source": [
    "### Confusion Matrix"
   ]
  },
  {
   "cell_type": "code",
   "execution_count": null,
   "id": "f03d6f12",
   "metadata": {},
   "outputs": [],
   "source": [
    "# Generate the confusion matrix\n",
    "cm3 = pd.crosstab(\n",
    "    valid_df[target].values,\n",
    "    predictions3,\n",
    "    rownames=['Actual'],\n",
    "    colnames=['Predicted']\n",
    ")\n",
    "\n",
    "# Create a more visually appealing confusion matrix plot\n",
    "plt.figure(figsize=(6, 6))\n",
    "ax = sns.heatmap(\n",
    "    cm3,\n",
    "    annot=True,\n",
    "    fmt='d',\n",
    "    cmap=\"Blues\",\n",
    "    linewidths=1,\n",
    "    linecolor=\"black\",\n",
    "    cbar=False,\n",
    "    xticklabels=['Not Fraud', 'Fraud'],\n",
    "    yticklabels=['Not Fraud', 'Fraud'],\n",
    "    annot_kws={\"size\": 18, \"weight\": \"bold\"}\n",
    ")\n",
    "\n",
    "# Add title and axis labels\n",
    "ax.set_title('CatBoost Confusion Matrix', fontsize=18, fontweight='bold', pad=15)\n",
    "ax.set_xlabel('Predicted', fontsize=14, labelpad=10)\n",
    "ax.set_ylabel('Actual', fontsize=14, labelpad=10)\n",
    "plt.xticks(fontsize=12)\n",
    "plt.yticks(fontsize=12, rotation=0)\n",
    "plt.tight_layout()\n",
    "plt.show()"
   ]
  },
  {
   "cell_type": "markdown",
   "id": "4ef46535",
   "metadata": {},
   "source": [
    "### ROC-AUC score (Area under curve)"
   ]
  },
  {
   "cell_type": "code",
   "execution_count": null,
   "id": "d7aea390",
   "metadata": {},
   "outputs": [],
   "source": [
    "roc_auc_score(valid_df[target].values, predictions3)"
   ]
  },
  {
   "cell_type": "markdown",
   "id": "54f3eb5a",
   "metadata": {},
   "source": [
    "##### The ROC-AUC score obtained with CatBoostClassifier is 0.86."
   ]
  }
 ],
 "metadata": {
  "kernelspec": {
   "display_name": "Python 3",
   "language": "python",
   "name": "python3"
  },
  "language_info": {
   "codemirror_mode": {
    "name": "ipython",
    "version": 3
   },
   "file_extension": ".py",
   "mimetype": "text/x-python",
   "name": "python",
   "nbconvert_exporter": "python",
   "pygments_lexer": "ipython3",
   "version": "3.12.5"
  }
 },
 "nbformat": 4,
 "nbformat_minor": 5
}
