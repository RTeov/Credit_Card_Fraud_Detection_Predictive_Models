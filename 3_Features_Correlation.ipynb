{
 "cells": [
  {
   "cell_type": "code",
   "execution_count": null,
   "id": "9570cbd9",
   "metadata": {},
   "outputs": [],
   "source": [
    "import os\n",
    "import pandas as pd\n",
    "import seaborn as sns\n",
    "import matplotlib.pyplot as plt"
   ]
  },
  {
   "cell_type": "markdown",
   "id": "5bc01e51",
   "metadata": {},
   "source": [
    "# Read the Data"
   ]
  },
  {
   "cell_type": "code",
   "execution_count": null,
   "id": "2d1d0983",
   "metadata": {},
   "outputs": [],
   "source": [
    "working_directory = os.getcwd()\n",
    "print(working_directory)\n",
    "data = pd.read_csv(f\"{working_directory}/Input_Data/creditcard_post_exploration.csv\") #Change the path to your dataset, if needed"
   ]
  },
  {
   "cell_type": "markdown",
   "id": "753ce210",
   "metadata": {},
   "source": [
    "## Features correlation"
   ]
  },
  {
   "cell_type": "code",
   "execution_count": null,
   "id": "0cd561dd",
   "metadata": {},
   "outputs": [],
   "source": [
    "# Plot the correlation heatmap\n",
    "plt.figure(figsize=(16, 16))\n",
    "plt.title('Credit Card Transactions Feature Correlation (PCC)', fontsize=20, fontweight='bold', pad=20)\n",
    "\n",
    "# Compute the correlation matrix\n",
    "correlation_matrix = data.rename(columns={'Fraud_Flag': 'Fraud Flag', 'Transaction_Amount': 'Amount', 'Transaction_Time': 'Time'})\n",
    "correlation_matrix = correlation_matrix.corr()\n",
    "\n",
    "# Plot the heatmap with enhancements\n",
    "sns.heatmap(\n",
    "    correlation_matrix,\n",
    "    annot=True,  # Add correlation values inside the heatmap\n",
    "    fmt=\".2f\",  # Format the correlation values to 2 decimal places\n",
    "    xticklabels=correlation_matrix.columns,\n",
    "    yticklabels=correlation_matrix.columns,\n",
    "    linewidths=0.5,  # Increase line width for better separation\n",
    "    cmap=\"vlag\",  # Use a diverging colormap for better contrast\n",
    "    cbar_kws={'shrink': 0.8, 'label': 'Correlation Coefficient'}  # Customize the color bar\n",
    ")\n",
    "\n",
    "# Customize tick labels\n",
    "plt.xticks(fontsize=12, rotation=45, ha='right')\n",
    "plt.yticks(fontsize=12, rotation=0)\n",
    "\n",
    "# Display the plot\n",
    "plt.tight_layout()  # Adjust layout to prevent overlap\n",
    "plt.show()"
   ]
  },
  {
   "cell_type": "markdown",
   "id": "03e06472",
   "metadata": {},
   "source": [
    "#### As anticipated, there is no significant correlation among features V1 through V28. However, some of these features exhibit notable correlations with Time and Amount: V3 shows an inverse correlation with Time, while V7 and V20 are directly correlated with Amount, and V1 and V5 are inversely correlated with Amount.\n",
    "\n",
    "#### Let’s visualize these relationships by plotting both the direct and inverse correlations on the same graph.\n",
    "\n",
    "#### We’ll begin with the directly correlated pairs: {V20, Amount} and {V7, Amount}."
   ]
  },
  {
   "cell_type": "markdown",
   "id": "b12323b7",
   "metadata": {},
   "source": [
    "## Correlation Between Feature V20 and Transaction Amount by Fraud Status\"\n",
    "## and\n",
    "## Correlation Between Feature V7 and Transaction Amount by Fraud Status"
   ]
  },
  {
   "cell_type": "code",
   "execution_count": null,
   "id": "eae8693a",
   "metadata": {},
   "outputs": [],
   "source": [
    "# Rename columns\n",
    "data_lmplot = data.rename(columns={'Transaction_Amount': 'Transaction Amount', 'Fraud_Flag': 'Fraud Flag'})\n",
    "\n",
    "# Plot the relationship between V20 and Transaction Amount\n",
    "plot_v20 = sns.lmplot(\n",
    "    x='V20', \n",
    "    y='Transaction Amount', \n",
    "    data=data_lmplot, \n",
    "    hue='Fraud Flag', \n",
    "    fit_reg=True, \n",
    "    scatter_kws={'s': 2}\n",
    ")\n",
    "plot_v20.fig.suptitle(\"Relationship between V20 and Transaction Amount\", y=1.02) \n",
    "plot_v20.set_axis_labels(\"V20\", \"Transaction Amount\")  \n",
    "\n",
    "# Plot the relationship between V7 and Transaction Amount\n",
    "plot_v7 = sns.lmplot(\n",
    "    x='V7', \n",
    "    y='Transaction Amount', \n",
    "    data=data_lmplot, \n",
    "    hue='Fraud Flag', \n",
    "    fit_reg=True, \n",
    "    scatter_kws={'s': 2}\n",
    ")\n",
    "plot_v7.fig.suptitle(\"Relationship between V7 and Transaction Amount\", y=1.02)  \n",
    "plot_v7.set_axis_labels(\"V7\", \"Transaction Amount\")  \n",
    "\n",
    "# Show the plots\n",
    "plt.show()"
   ]
  },
  {
   "cell_type": "markdown",
   "id": "5d213062",
   "metadata": {},
   "source": [
    "##### We can observe that the two pairs of features are positively correlated (the regression lines for Class = 0 have a steeper positive slope, while the regression lines for Class = 1 have a gentler positive slope).\n",
    "\n",
    "##### Next, let's plot the inversely correlated features."
   ]
  },
  {
   "cell_type": "markdown",
   "id": "7990a47d",
   "metadata": {},
   "source": [
    "## Correlation Between Feature V2 and Transaction Amount by Fraud Status\n",
    "## and \n",
    "## Correlation Between Feature V5 and Transaction Amount by Fraud Status"
   ]
  },
  {
   "cell_type": "code",
   "execution_count": null,
   "id": "05419d0f",
   "metadata": {},
   "outputs": [],
   "source": [
    "# Plot the relationship between V2 and Amount\n",
    "plot_v2 = sns.lmplot(\n",
    "    x='V2', \n",
    "    y='Transaction Amount', \n",
    "    data=data_lmplot, \n",
    "    hue='Fraud Flag', \n",
    "    fit_reg=True, \n",
    "    scatter_kws={'s': 2}\n",
    ")\n",
    "plot_v2.fig.suptitle(\"Relationship between V2 and Transaction Amount\", y=1.02)  #\n",
    "plot_v2.set_axis_labels(\"V2\", \"Transaction Amount\")  \n",
    "\n",
    "# Plot the relationship between V5 and Amount\n",
    "plot_v5 = sns.lmplot(\n",
    "    x='V5', \n",
    "    y='Transaction Amount', \n",
    "    data=data_lmplot, \n",
    "    hue='Fraud Flag', \n",
    "    fit_reg=True, \n",
    "    scatter_kws={'s': 2}\n",
    ")\n",
    "plot_v5.fig.suptitle(\"Relationship between V5 and Transaction Amount\", y=1.02)  \n",
    "plot_v5.set_axis_labels(\"V5\", \"Transaction Amount\")  \n",
    "\n",
    "# Show the plots\n",
    "plt.show()"
   ]
  },
  {
   "cell_type": "markdown",
   "id": "b86bb6f9",
   "metadata": {},
   "source": [
    "##### We can observe that the two pairs of features are inversely correlated (the regression lines for Class = 0 have a steeper negative slope, while the regression lines for Class = 1 have a gentler negative slope)."
   ]
  },
  {
   "cell_type": "markdown",
   "id": "21863f8a",
   "metadata": {},
   "source": [
    "## Features density plot"
   ]
  },
  {
   "cell_type": "code",
   "execution_count": null,
   "id": "674e53de",
   "metadata": {},
   "outputs": [],
   "source": [
    "# Rename columns\n",
    "data_feature_density = data.rename(columns={'Transaction_Amount': 'Transaction Amount', 'Fraud_Flag': 'Fraud Flag'})\n",
    "\n",
    "# Filter features and prepare data for density plots\n",
    "feature_density = data_feature_density.columns.values  \n",
    "t0 = data_feature_density.loc[data_feature_density['Fraud Flag'] == 0]  # Non-fraudulent transactions\n",
    "t1 = data_feature_density.loc[data_feature_density['Fraud Flag'] == 1]  # Fraudulent transactions\n",
    "\n",
    "# Select features with non-zero variance in both classes\n",
    "valid_features = [\n",
    "    feature for feature in feature_density \n",
    "    if t0[feature].var() > 0 and t1[feature].var() > 0\n",
    "]\n",
    "\n",
    "# Set plot style and figure size\n",
    "sns.set_style('whitegrid')\n",
    "fig, axes = plt.subplots(8, 4, figsize=(16, 28))  # Create subplots for density plots\n",
    "axes = axes.flatten()  # Flatten the axes array for easier indexing\n",
    "\n",
    "# Plot density for each valid feature\n",
    "for i, feature in enumerate(valid_features):\n",
    "    sns.kdeplot(t0[feature], bw_adjust=0.5, label=\"Fraud Flag = 0\", ax=axes[i])  # Non-fraud density\n",
    "    sns.kdeplot(t1[feature], bw_adjust=0.5, label=\"Fraud Flag = 1\", ax=axes[i])  # Fraud density\n",
    "    axes[i].set_title(feature, fontsize=10)\n",
    "    axes[i].set_xlabel(\"Value\", fontsize=8)\n",
    "    axes[i].set_ylabel(\"Density\", fontsize=8)\n",
    "    axes[i].tick_params(axis='both', which='major', labelsize=8)\n",
    "    axes[i].legend(fontsize=8)\n",
    "\n",
    "# Remove empty subplots\n",
    "for j in range(len(valid_features), len(axes)):\n",
    "    fig.delaxes(axes[j])\n",
    "\n",
    "# Adjust layout and display the plots\n",
    "plt.tight_layout()\n",
    "plt.show()"
   ]
  },
  {
   "cell_type": "markdown",
   "id": "f1dd9b1f",
   "metadata": {},
   "source": [
    "## Save Data to CSV"
   ]
  },
  {
   "cell_type": "code",
   "execution_count": null,
   "id": "7f7add0a",
   "metadata": {},
   "outputs": [],
   "source": [
    "data.to_csv(f\"{working_directory}/Input_Data/creditcard_post_correlation.csv\", index=False)"
   ]
  }
 ],
 "metadata": {
  "kernelspec": {
   "display_name": "Python 3",
   "language": "python",
   "name": "python3"
  },
  "language_info": {
   "codemirror_mode": {
    "name": "ipython",
    "version": 3
   },
   "file_extension": ".py",
   "mimetype": "text/x-python",
   "name": "python",
   "nbconvert_exporter": "python",
   "pygments_lexer": "ipython3",
   "version": "3.12.5"
  }
 },
 "nbformat": 4,
 "nbformat_minor": 5
}
