{
 "cells": [
  {
   "cell_type": "code",
   "execution_count": null,
   "id": "92644562",
   "metadata": {},
   "outputs": [],
   "source": [
    "import os\n",
    "import pandas as pd "
   ]
  },
  {
   "cell_type": "markdown",
   "id": "5e6a7e7c",
   "metadata": {},
   "source": [
    "# Read the Data"
   ]
  },
  {
   "cell_type": "code",
   "execution_count": null,
   "id": "886e780b",
   "metadata": {},
   "outputs": [],
   "source": [
    "working_directory = os.getcwd()\n",
    "print(working_directory)\n",
    "data = pd.read_csv(f\"{working_directory}/Input_Data/creditcard.csv\") #Change the path to your dataset, if needed"
   ]
  },
  {
   "cell_type": "markdown",
   "id": "dd53c56e",
   "metadata": {},
   "source": [
    "### Check the structure of the data"
   ]
  },
  {
   "cell_type": "code",
   "execution_count": null,
   "id": "dc1236bf",
   "metadata": {},
   "outputs": [],
   "source": [
    "print(\"Credit Card Fraud Detection Data -  number of rows:\",data.shape[0],\" number of columns:\", data.shape[1])"
   ]
  },
  {
   "cell_type": "markdown",
   "id": "32c646ff",
   "metadata": {},
   "source": [
    "### Check the inital 5 rows"
   ]
  },
  {
   "cell_type": "code",
   "execution_count": null,
   "id": "a7774033",
   "metadata": {},
   "outputs": [],
   "source": [
    "data.head()"
   ]
  },
  {
   "cell_type": "markdown",
   "id": "042cba49",
   "metadata": {},
   "source": [
    "### Additional details "
   ]
  },
  {
   "cell_type": "code",
   "execution_count": null,
   "id": "4c6c8444",
   "metadata": {},
   "outputs": [],
   "source": [
    "data.describe()  "
   ]
  },
  {
   "cell_type": "markdown",
   "id": "374e0476",
   "metadata": {},
   "source": [
    "##### Total transactions - 284,807\n",
    "\n"
   ]
  },
  {
   "cell_type": "markdown",
   "id": "5d2e1795",
   "metadata": {},
   "source": [
    "# Prepare the data for exploration"
   ]
  },
  {
   "cell_type": "code",
   "execution_count": null,
   "id": "45c64f6a",
   "metadata": {},
   "outputs": [],
   "source": [
    "data = data.rename(columns={'Time': 'Transaction_Time', 'Amount': 'Transaction_Amount', 'Class': 'Fraud_Flag'})\n",
    "\n",
    "data.head()"
   ]
  },
  {
   "cell_type": "markdown",
   "id": "55b2d0f2",
   "metadata": {},
   "source": [
    "##### Transaction_Time -  seconds elapsed between this transaction and the first transaction in the dataset.\n",
    "##### Transaction_Amount -  transaction amount in.\n",
    "##### Fraud_Flag - 1 means fraud, 0 means not fraud .\n",
    "\n",
    "##### Due to confidentiality issues, features from V1 to V28 are anonymized and not available for public use.\n",
    "\n",
    "\n"
   ]
  },
  {
   "cell_type": "markdown",
   "id": "6d544b5b",
   "metadata": {},
   "source": [
    "## Check for missing data"
   ]
  },
  {
   "cell_type": "code",
   "execution_count": null,
   "id": "afddaf1f",
   "metadata": {},
   "outputs": [],
   "source": [
    "total = data.isnull().sum().sort_values(ascending = False)\n",
    "percent = (data.isnull().sum()/data.isnull().count()*100).sort_values(ascending = False)\n",
    "missing_data = pd.concat([total, percent], axis=1, keys=['Total', 'Percent']).transpose()\n",
    "display(missing_data)\n",
    "\n",
    "total_missing = data.isnull().sum().sum()\n",
    "print(\"Total missing values in the dataset:\", total_missing)"
   ]
  },
  {
   "cell_type": "markdown",
   "id": "5ac26c7e",
   "metadata": {},
   "source": [
    "##### There are no missing values in the dataset"
   ]
  },
  {
   "cell_type": "markdown",
   "id": "f2e7f13f",
   "metadata": {},
   "source": [
    "## Check for duplicates"
   ]
  },
  {
   "cell_type": "code",
   "execution_count": null,
   "id": "fb2295cd",
   "metadata": {},
   "outputs": [],
   "source": [
    "duplicates = data.duplicated().sum()\n",
    "print(\"Duplicates in the dataset:\", duplicates)"
   ]
  },
  {
   "cell_type": "markdown",
   "id": "0e808967",
   "metadata": {},
   "source": [
    "##### Number of duplicates in the dataset: 1081\n",
    "##### The duplicates will not  be removed as they are not fraud transactions and will not affect the model performance."
   ]
  },
  {
   "cell_type": "markdown",
   "id": "6e0282a6",
   "metadata": {},
   "source": [
    "## Save to CSV"
   ]
  },
  {
   "cell_type": "code",
   "execution_count": null,
   "id": "72e87886",
   "metadata": {},
   "outputs": [],
   "source": [
    "data.to_csv(f\"{working_directory}/Input_Data/creditcard_cleaned.csv\", index=False)"
   ]
  }
 ],
 "metadata": {
  "kernelspec": {
   "display_name": "Python 3",
   "language": "python",
   "name": "python3"
  },
  "language_info": {
   "codemirror_mode": {
    "name": "ipython",
    "version": 3
   },
   "file_extension": ".py",
   "mimetype": "text/x-python",
   "name": "python",
   "nbconvert_exporter": "python",
   "pygments_lexer": "ipython3",
   "version": "3.12.5"
  }
 },
 "nbformat": 4,
 "nbformat_minor": 5
}
